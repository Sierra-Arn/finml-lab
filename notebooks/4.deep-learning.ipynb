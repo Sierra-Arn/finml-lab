{
 "cells": [
  {
   "cell_type": "markdown",
   "id": "ddee3767",
   "metadata": {},
   "source": [
    "# **Deep Learning Notebook**\n",
    "\n",
    "This notebook trains and evaluates a Long Short-Term Memory (LSTM) model using PyTorch on the processed financial data:\n",
    "\n",
    "- Train LSTM neural network model on the engineered sequential features.\n",
    "- Perform hyperparameter optimization using Optuna to find the best model configuration.\n",
    "- Evaluate model performance by comparing predictions against actual target values.\n",
    "- Visualize model effectiveness through evaluation metrics.\n",
    "\n",
    "---"
   ]
  },
  {
   "cell_type": "markdown",
   "id": "048c7c60",
   "metadata": {},
   "source": [
    "## **Import required libraries**"
   ]
  },
  {
   "cell_type": "code",
   "execution_count": 1,
   "id": "d73441d4",
   "metadata": {},
   "outputs": [],
   "source": [
    "import pandas as pd\n",
    "import numpy as np\n",
    "import random\n",
    "import matplotlib.pyplot as plt\n",
    "from sklearn.metrics import mean_squared_error\n",
    "\n",
    "import optuna\n",
    "from optuna.pruners import MedianPruner\n",
    "from optuna.samplers import TPESampler\n",
    "from optuna.trial import Trial\n",
    "from optuna.exceptions import TrialPruned\n",
    "from tqdm.notebook import tqdm\n",
    "\n",
    "import torch\n",
    "import torch.nn as nn\n",
    "import torch.optim as optim\n",
    "from torch.utils.data import DataLoader, TensorDataset, Subset\n",
    "\n",
    "from huggingface_hub import hf_hub_download"
   ]
  },
  {
   "cell_type": "markdown",
   "id": "59a98cf8",
   "metadata": {},
   "source": [
    "## **Set Random Seed for Reproducibility**"
   ]
  },
  {
   "cell_type": "code",
   "execution_count": 2,
   "id": "28410320",
   "metadata": {},
   "outputs": [],
   "source": [
    "SEED = 42\n",
    "np.random.seed(SEED)\n",
    "random.seed(SEED)\n",
    "torch.manual_seed(SEED)\n",
    "torch.cuda.manual_seed(SEED)"
   ]
  },
  {
   "cell_type": "markdown",
   "id": "2fa4fe28",
   "metadata": {},
   "source": [
    "## **Get the train and test datasets**\n",
    "\n",
    "> **Download them or create the data from the `2.feature-engineering.ipynb` file.**"
   ]
  },
  {
   "cell_type": "code",
   "execution_count": 3,
   "id": "c427d88f",
   "metadata": {},
   "outputs": [],
   "source": [
    "files_to_download = [\n",
    "    \"processed/train_dataset.parquet\",\n",
    "    \"processed/test_dataset.parquet\"\n",
    "]\n",
    "\n",
    "for file_path in files_to_download:\n",
    "    hf_hub_download(\n",
    "        repo_id=\"Sierra-Arn/finml-lab-data\",\n",
    "        filename=file_path,\n",
    "        repo_type=\"dataset\",\n",
    "        local_dir=\"../data\"\n",
    "    )"
   ]
  },
  {
   "cell_type": "code",
   "execution_count": 4,
   "id": "c643c1a8",
   "metadata": {},
   "outputs": [],
   "source": [
    "TRAIN_DATASET = pd.read_parquet(\"../data/processed/train_dataset.parquet\")\n",
    "TEST_DATASET = pd.read_parquet(\"../data/processed/test_dataset.parquet\")"
   ]
  },
  {
   "cell_type": "markdown",
   "id": "a44e0e95",
   "metadata": {},
   "source": [
    "## **Creating time series sequences for target**"
   ]
  },
  {
   "cell_type": "code",
   "execution_count": 5,
   "id": "01ecf78b",
   "metadata": {},
   "outputs": [],
   "source": [
    "WINDOW_SIZE = 5\n",
    "\n",
    "def create_lstm_sequences(df: pd.DataFrame, window_size = WINDOW_SIZE):\n",
    "    \"\"\"\n",
    "    Create sequences of features and targets for LSTM training.\n",
    "    \n",
    "    For each sequence:\n",
    "    - Takes 'window_size' consecutive rows as input features\n",
    "    - Uses all columns except 'target' as features\n",
    "    - Associates the sequence with the target value from the last row in the window\n",
    "    \n",
    "    Note: Since the target variable already represents the next period's value (shifted by 1), \n",
    "    we use the target from the last row of the current window, not from the row following the window.\n",
    "\n",
    "    Example with window_size=3:\n",
    "    Sequence 0: \n",
    "        X_seq[0] = rows 0-2, features only\n",
    "        y_seq[0] = target from row 2\n",
    "    \n",
    "    Sequence 1:\n",
    "        X_seq[1] = rows 1-3, features only  \n",
    "        y_seq[1] = target from row 3\n",
    "    \n",
    "    And so on...\n",
    "    \n",
    "    Args:\n",
    "        df: DataFrame with features and target column\n",
    "        window_size: Number of consecutive time steps to include in each sequence\n",
    "        \n",
    "    Returns:\n",
    "        X_seq: 3D tensor of shape (n_sequences, window_size, n_features)\n",
    "        y_seq: 1D tensor of target values\n",
    "    \"\"\"\n",
    "    features_df = df.copy()\n",
    "    \n",
    "    # Get all feature column names (excluding target)\n",
    "    feature_columns = features_df.drop(columns=['target']).columns\n",
    "    \n",
    "    X_seq, y_seq = [], []\n",
    "    \n",
    "    # Slide a window of size 'window_size' across the dataset\n",
    "    for end in range(window_size, len(features_df)):\n",
    "        start = end - window_size\n",
    "        \n",
    "        # Extract window of feature values (excluding target column)\n",
    "        window = features_df.iloc[start:end][feature_columns].values\n",
    "        \n",
    "        # Target is taken from the last row of the current window\n",
    "        label = features_df.iloc[end-1]['target']\n",
    "        \n",
    "        X_seq.append(window)\n",
    "        y_seq.append(label)\n",
    "    \n",
    "    # Convert to PyTorch tensors\n",
    "    return torch.tensor(X_seq, dtype=torch.float32), torch.tensor(y_seq, dtype=torch.float32)"
   ]
  },
  {
   "cell_type": "code",
   "execution_count": 6,
   "id": "676013f9",
   "metadata": {},
   "outputs": [
    {
     "name": "stderr",
     "output_type": "stream",
     "text": [
      "/tmp/ipykernel_101456/2578159197.py:55: UserWarning: Creating a tensor from a list of numpy.ndarrays is extremely slow. Please consider converting the list to a single numpy.ndarray with numpy.array() before converting to a tensor. (Triggered internally at /pytorch/torch/csrc/utils/tensor_new.cpp:253.)\n",
      "  return torch.tensor(X_seq, dtype=torch.float32), torch.tensor(y_seq, dtype=torch.float32)\n"
     ]
    }
   ],
   "source": [
    "X_train_seq, y_train_seq = create_lstm_sequences(df = TRAIN_DATASET)\n",
    "X_test_seq, y_test_seq = create_lstm_sequences(df = TEST_DATASET)"
   ]
  },
  {
   "cell_type": "markdown",
   "id": "87a2ba63",
   "metadata": {},
   "source": [
    "## **Creating tensor datasets for training and testing**"
   ]
  },
  {
   "cell_type": "code",
   "execution_count": 7,
   "id": "8ef7228a",
   "metadata": {},
   "outputs": [],
   "source": [
    "TRAIN_TENSOR_DATASET = TensorDataset(X_train_seq, y_train_seq)\n",
    "TEST_TENSOR_DATASET = TensorDataset(X_test_seq, y_test_seq)"
   ]
  },
  {
   "cell_type": "code",
   "execution_count": 8,
   "id": "49d957a7",
   "metadata": {},
   "outputs": [],
   "source": [
    "DEVICE = torch.device(\"cuda\" if torch.cuda.is_available() else \"cpu\")\n",
    "INPUT_SIZE = TRAIN_TENSOR_DATASET.tensors[0].shape[2]"
   ]
  },
  {
   "cell_type": "markdown",
   "id": "31508ece",
   "metadata": {},
   "source": [
    "## **Define LSTM PyTorch class model**"
   ]
  },
  {
   "cell_type": "code",
   "execution_count": 9,
   "id": "61656acc",
   "metadata": {},
   "outputs": [],
   "source": [
    "class FinancialLSTMRegressor(nn.Module):\n",
    "    \"\"\"\n",
    "    LSTM-based regressor for financial time series prediction.\n",
    "    \n",
    "    Args:\n",
    "        hidden_size: Number of features in the hidden state of LSTM\n",
    "        num_layers: Number of recurrent LSTM layers\n",
    "        dropout_rate: Dropout probability for regularization\n",
    "        input_size: Number of input features at each time step (default: INPUT_SIZE)\n",
    "    \"\"\"\n",
    "    def __init__(self, \n",
    "        hidden_size: int, \n",
    "        num_layers: int, \n",
    "        dropout_rate: int, \n",
    "        input_size: int = INPUT_SIZE\n",
    "    ):\n",
    "        super(FinancialLSTMRegressor, self).__init__()\n",
    "        \n",
    "        # LSTM layer configuration\n",
    "        self.lstm = nn.LSTM(\n",
    "            input_size=input_size,      # Number of features at each time step\n",
    "            hidden_size=hidden_size,    # Size of the hidden state vector\n",
    "            num_layers=num_layers,      # Number of stacked LSTM layers\n",
    "            batch_first=True,           # Input format: (batch, seq_len, features)\n",
    "            bidirectional=False,        # Unidirectional LSTM (only looks at past context)\n",
    "            dropout=dropout_rate if num_layers > 1 else 0  # Dropout between layers (only if multiple layers)\n",
    "        )\n",
    "\n",
    "        # Fully connected layers for final prediction\n",
    "        self.fc1 = nn.Linear(hidden_size, hidden_size // 2)  # First hidden layer\n",
    "        self.fc2 = nn.Linear(hidden_size // 2, 1)            # Output layer (single prediction)\n",
    "\n",
    "        # Additional components for regularization and activation\n",
    "        self.dropout = nn.Dropout(dropout_rate)  # Dropout for regularization\n",
    "        self.relu = nn.ReLU()                    # ReLU activation function\n",
    "\n",
    "    def forward(self, x):\n",
    "        \"\"\"\n",
    "        Forward pass through the network.\n",
    "        \n",
    "        Args:\n",
    "            x (torch.Tensor): Input tensor of shape (batch_size, seq_len, input_size)\n",
    "            \n",
    "        Returns:\n",
    "            torch.Tensor: Output predictions of shape (batch_size, 1)\n",
    "        \"\"\"\n",
    "        # LSTM layer processing\n",
    "        lstm_out, _ = self.lstm(x)           # Process sequence through LSTM\n",
    "        out = lstm_out[:, -1, :]             # Take output from last time step only\n",
    "\n",
    "        # First fully connected layer\n",
    "        out = self.fc1(out)                  # Transform to intermediate dimension\n",
    "        out = self.relu(out)                 # Apply ReLU activation\n",
    "        out = self.dropout(out)              # Apply dropout for regularization\n",
    "\n",
    "        # Output layer\n",
    "        out = self.fc2(out)                  # Final prediction (single value)\n",
    "\n",
    "        return out"
   ]
  },
  {
   "cell_type": "markdown",
   "id": "e4f7954b",
   "metadata": {},
   "source": [
    "## **Define training and evaluation functions**\n",
    "\n",
    "**Note:**  \n",
    "A batch is a subset of data used to compute gradients and update model parameters during training. Instead of calculating gradients over the entire dataset (which can be computationally expensive) or single samples (which can be noisy), we process data in batches to balance computational efficiency and gradient stability. \n",
    "\n",
    "For each batch, we:\n",
    "1. Compute predictions for all samples in the batch  **(Forward pass)**.\n",
    "2. Calculate average loss across all batch samples **(Loss calculation)**. \n",
    "3. Compute gradients of the loss with respect to model parameters **(Backward pass)**.\n",
    "4. Update model weights using the computed gradients **(Parameter update)**."
   ]
  },
  {
   "cell_type": "code",
   "execution_count": 10,
   "id": "70852593",
   "metadata": {},
   "outputs": [],
   "source": [
    "criterion = nn.MSELoss()\n",
    "\n",
    "def train_one_epoch(\n",
    "    model: FinancialLSTMRegressor, \n",
    "    train_loader: DataLoader, \n",
    "    optimizer: optim.Adam,\n",
    "    criterion: nn.MSELoss = criterion\n",
    "):\n",
    "    \"\"\"\n",
    "    Train the model for one epoch.\n",
    "    \n",
    "    This function performs forward pass, loss calculation, backpropagation,\n",
    "    and parameter updates for all batches in the training dataset.\n",
    "    \n",
    "    Args:\n",
    "        model: The FinancialLSTMRegressor model to train\n",
    "        train_loader: DataLoader containing training batches\n",
    "        optimizer: Adam optimizer for parameter updates\n",
    "        criterion: Loss function (default: MSE Loss)\n",
    "        \n",
    "    Returns:\n",
    "        float: Average loss across all batches in the epoch\n",
    "    \"\"\"\n",
    "    # Set model to training mode\n",
    "    model.train()\n",
    "    total_loss = 0\n",
    "\n",
    "    # Iterate through all batches in the training dataset\n",
    "    for X_batch, y_batch in train_loader:\n",
    "        # Move data to the specified device (CPU/GPU)\n",
    "        X_batch, y_batch = X_batch.to(DEVICE), y_batch.to(DEVICE)\n",
    "\n",
    "        # Clear gradients from previous iteration\n",
    "        optimizer.zero_grad()\n",
    "        \n",
    "        # Forward pass: get predictions from model\n",
    "        output = model(X_batch).squeeze(-1)  # Remove last dimension: (batch_size, 1) -> (batch_size,)\n",
    "        \n",
    "        # Calculate loss between predictions and actual targets\n",
    "        loss = criterion(output, y_batch)\n",
    "        \n",
    "        # Backward pass: compute gradients\n",
    "        loss.backward()\n",
    "        \n",
    "        # Update model parameters using optimizer\n",
    "        optimizer.step()\n",
    "\n",
    "        # Accumulate total loss for epoch averaging\n",
    "        total_loss += loss.item()\n",
    "\n",
    "    # Return average loss for the epoch\n",
    "    return total_loss / len(train_loader)\n",
    "\n",
    "\n",
    "def evaluate(\n",
    "    model: FinancialLSTMRegressor, \n",
    "    val_loader: DataLoader\n",
    "):\n",
    "    \"\"\"\n",
    "    Evaluate the model performance on validation dataset.\n",
    "    \n",
    "    This function performs forward pass on validation data without\n",
    "    gradient computation and calculates the Mean Squared Error.\n",
    "    \n",
    "    Args:\n",
    "        model: The trained FinancialLSTMRegressor model to evaluate\n",
    "        val_loader: DataLoader containing validation batches\n",
    "        \n",
    "    Returns:\n",
    "        float: Mean Squared Error between predictions and actual targets\n",
    "    \"\"\"\n",
    "    # Set model to evaluation mode\n",
    "    model.eval()  \n",
    "    all_preds, all_targets = [], []\n",
    "\n",
    "    # Disable gradient computation for faster inference\n",
    "    with torch.no_grad():\n",
    "        # Iterate through all batches in the validation dataset\n",
    "        for X_batch, y_batch in val_loader:\n",
    "            # Move data to the specified device (CPU/GPU)\n",
    "            X_batch, y_batch = X_batch.to(DEVICE), y_batch.to(DEVICE)\n",
    "            \n",
    "            # Forward pass: get predictions from model\n",
    "            output = model(X_batch).squeeze(-1)  # Remove last dimension: (batch_size, 1) -> (batch_size,)\n",
    "\n",
    "            # Collect predictions and targets for final evaluation\n",
    "            all_preds.extend(output.cpu().numpy())\n",
    "            all_targets.extend(y_batch.cpu().numpy())\n",
    "\n",
    "    # Calculate Mean Squared Error across all validation samples\n",
    "    mse = mean_squared_error(all_targets, all_preds)\n",
    "    return mse"
   ]
  },
  {
   "cell_type": "markdown",
   "id": "68f7789c",
   "metadata": {},
   "source": [
    "## **Optuna hyperparameter optimization**"
   ]
  },
  {
   "cell_type": "code",
   "execution_count": 11,
   "id": "061ef086",
   "metadata": {},
   "outputs": [],
   "source": [
    "def objective(trial: Trial):\n",
    "    \"\"\"\n",
    "    Objective function for Optuna hyperparameter optimization.\n",
    "    \n",
    "    This function defines the search space for hyperparameters and trains\n",
    "    an LSTM model with the given configuration. It uses early stopping\n",
    "    and pruning to efficiently search for optimal parameters.\n",
    "    \n",
    "    Args:\n",
    "        trial: Optuna trial object for hyperparameter suggestion\n",
    "        \n",
    "    Returns:\n",
    "        float: Best validation RMSE achieved during training\n",
    "    \"\"\"\n",
    "    # Suggest hyperparameters for the LSTM model based on previous experimentation\n",
    "    # These ranges were selected after extensive hyperparameter tuning, as they consistently\n",
    "    # yielded the best model performance on validation data\n",
    "    hidden_size = trial.suggest_int(\"hidden_size\", 32, 128)\n",
    "    num_layers = trial.suggest_int(\"num_layers\", 1, 1)\n",
    "    batch_size = trial.suggest_int(\"batch_size\", 32, 128)\n",
    "    dropout_rate = trial.suggest_float(\"dropout_rate\", 0.2, 0.5)\n",
    "    learning_rate = trial.suggest_float(\"lr\", 1e-4, 1e-2, log=True)\n",
    "\n",
    "    n_epochs = 200  # Maximum number of training epochs\n",
    "\n",
    "    # Split training dataset into train and validation subsets (80/20 split)\n",
    "    train_size = int(len(TRAIN_TENSOR_DATASET) * 0.8)\n",
    "    train_subset = Subset(TRAIN_TENSOR_DATASET, range(train_size))\n",
    "    val_subset = Subset(TRAIN_TENSOR_DATASET, range(train_size, len(TRAIN_TENSOR_DATASET)))\n",
    "\n",
    "    # Create data loaders for training and validation\n",
    "    train_loader = DataLoader(train_subset, batch_size=batch_size, shuffle=True)\n",
    "    val_loader = DataLoader(val_subset, batch_size=batch_size, shuffle=True)\n",
    "\n",
    "    # Initialize the LSTM model with suggested hyperparameters\n",
    "    model = FinancialLSTMRegressor(\n",
    "        hidden_size=hidden_size,\n",
    "        num_layers=num_layers,\n",
    "        dropout_rate=dropout_rate\n",
    "    ).to(DEVICE)  # Move model to specified device (CPU/GPU)\n",
    "\n",
    "    # Initialize Adam optimizer with suggested learning rate\n",
    "    optimizer = torch.optim.Adam(\n",
    "        model.parameters(),\n",
    "        lr=learning_rate\n",
    "    )\n",
    "\n",
    "    # Early stopping parameters\n",
    "    best_rmse = float(\"inf\")    # Track best validation RMSE\n",
    "    best_epoch = -1             # Track epoch with best performance\n",
    "    patience = 15               # Number of epochs to wait for improvement\n",
    "    epochs_no_improve = 0       # Counter for epochs without improvement\n",
    "    relative_tolerance = 0.05   # 5% improvement required to reset patience\n",
    "                                # Prevents stopping when metrics are large but improvements small\n",
    "\n",
    "    # Training loop with progress bar\n",
    "    with tqdm(total=n_epochs, desc=f\"Trial {trial.number}\", leave=False) as pbar:\n",
    "        for epoch in range(1, n_epochs+1):\n",
    "            # Train for one epoch and evaluate on validation set\n",
    "            train_mse = train_one_epoch(model=model, train_loader=train_loader, optimizer=optimizer)\n",
    "            val_mse = evaluate(model=model, val_loader=val_loader)\n",
    "\n",
    "            # Convert MSE to RMSE for more interpretable metrics\n",
    "            train_rmse = np.sqrt(train_mse)\n",
    "            val_rmse = np.sqrt(val_mse)\n",
    "\n",
    "            # Report validation RMSE to Optuna for potential pruning\n",
    "            trial.report(val_rmse, epoch)\n",
    "\n",
    "            # Update progress bar with current metrics\n",
    "            pbar.set_postfix({\n",
    "                \"train_rmse\": f\"{train_rmse:.6f}\",\n",
    "                \"val_rmse\": f\"{val_rmse:.6f}\"\n",
    "            })\n",
    "            pbar.update(1)\n",
    "\n",
    "            # Check if trial should be pruned (stopped early by Optuna)\n",
    "            if trial.should_prune():\n",
    "                raise TrialPruned()\n",
    "\n",
    "            # Early stopping logic with relative tolerance\n",
    "            if val_rmse < best_rmse * (1 - relative_tolerance):\n",
    "                best_rmse = val_rmse\n",
    "                best_epoch = epoch\n",
    "                epochs_no_improve = 0\n",
    "            else:\n",
    "                epochs_no_improve += 1\n",
    "\n",
    "            # Stop training if no improvement for 'patience' epochs\n",
    "            if epochs_no_improve > patience:\n",
    "                print(f\"Early stopping at epoch {epoch}\")\n",
    "                break\n",
    "\n",
    "    # Store additional metrics as trial attributes\n",
    "    trial.set_user_attr(\"best_rmse\", float(best_rmse))\n",
    "    trial.set_user_attr(\"best_epoch\", int(best_epoch))\n",
    "    trial.set_user_attr(\"final_train_rmse\", float(train_rmse))\n",
    "    trial.set_user_attr(\"final_val_rmse\", float(val_rmse))\n",
    "\n",
    "    print(f\"Best val_rmse: {best_rmse:.3f} at epoch {best_epoch}\")\n",
    "    return best_rmse"
   ]
  },
  {
   "cell_type": "code",
   "execution_count": 12,
   "id": "43effceb",
   "metadata": {},
   "outputs": [
    {
     "name": "stderr",
     "output_type": "stream",
     "text": [
      "[I 2025-08-12 11:44:44,911] A new study created in memory with name: no-name-2a60ae7e-6680-46b1-8305-b3a456c72cce\n"
     ]
    }
   ],
   "source": [
    "# Initialize Optuna components for hyperparameter optimization\n",
    "# MedianPruner stops unpromising trials early based on median performance\n",
    "# - n_startup_trials=6: First 7 trials run completely without pruning\n",
    "# - n_warmup_steps=15: Pruning starts only after 15 epochs to allow models to stabilize\n",
    "pruner = MedianPruner(n_startup_trials=7, n_warmup_steps=15)\n",
    "\n",
    "sampler = TPESampler(seed=SEED)\n",
    "study = optuna.create_study(\n",
    "    direction=\"minimize\", \n",
    "    pruner=pruner, \n",
    "    sampler=sampler\n",
    ")"
   ]
  },
  {
   "cell_type": "code",
   "execution_count": 13,
   "id": "bf5d4ede",
   "metadata": {},
   "outputs": [
    {
     "data": {
      "application/vnd.jupyter.widget-view+json": {
       "model_id": "31a54fd8139b4bbb942115eb1d6754df",
       "version_major": 2,
       "version_minor": 0
      },
      "text/plain": [
       "Trial 0:   0%|          | 0/200 [00:00<?, ?it/s]"
      ]
     },
     "metadata": {},
     "output_type": "display_data"
    },
    {
     "name": "stderr",
     "output_type": "stream",
     "text": [
      "[I 2025-08-12 11:45:04,337] Trial 0 finished with value: 1845.0164242823687 and parameters: {'hidden_size': 68, 'num_layers': 1, 'batch_size': 124, 'dropout_rate': 0.4195981825434215, 'lr': 0.0015751320499779737}. Best is trial 0 with value: 1845.0164242823687.\n"
     ]
    },
    {
     "name": "stdout",
     "output_type": "stream",
     "text": [
      "Early stopping at epoch 38\n",
      "Best val_rmse: 1845.016 at epoch 22\n"
     ]
    },
    {
     "data": {
      "application/vnd.jupyter.widget-view+json": {
       "model_id": "b6d2e632e4314cd0b23a40035680054a",
       "version_major": 2,
       "version_minor": 0
      },
      "text/plain": [
       "Trial 1:   0%|          | 0/200 [00:00<?, ?it/s]"
      ]
     },
     "metadata": {},
     "output_type": "display_data"
    },
    {
     "name": "stderr",
     "output_type": "stream",
     "text": [
      "[I 2025-08-12 11:45:22,272] Trial 1 finished with value: 3573.626713635448 and parameters: {'hidden_size': 47, 'num_layers': 1, 'batch_size': 47, 'dropout_rate': 0.21742508365045984, 'lr': 0.005399484409787433}. Best is trial 0 with value: 1845.0164242823687.\n"
     ]
    },
    {
     "name": "stdout",
     "output_type": "stream",
     "text": [
      "Early stopping at epoch 20\n",
      "Best val_rmse: 3573.627 at epoch 4\n"
     ]
    },
    {
     "data": {
      "application/vnd.jupyter.widget-view+json": {
       "model_id": "e7786525d0cf4258a070820fe2443c72",
       "version_major": 2,
       "version_minor": 0
      },
      "text/plain": [
       "Trial 2:   0%|          | 0/200 [00:00<?, ?it/s]"
      ]
     },
     "metadata": {},
     "output_type": "display_data"
    },
    {
     "name": "stderr",
     "output_type": "stream",
     "text": [
      "[I 2025-08-12 11:45:33,062] Trial 2 finished with value: 2915.0957815349066 and parameters: {'hidden_size': 90, 'num_layers': 1, 'batch_size': 100, 'dropout_rate': 0.20617534828874073, 'lr': 0.008706020878304856}. Best is trial 0 with value: 1845.0164242823687.\n"
     ]
    },
    {
     "name": "stdout",
     "output_type": "stream",
     "text": [
      "Early stopping at epoch 22\n",
      "Best val_rmse: 2915.096 at epoch 6\n"
     ]
    },
    {
     "data": {
      "application/vnd.jupyter.widget-view+json": {
       "model_id": "8d16c0149a3c4921a65f2b85922154a0",
       "version_major": 2,
       "version_minor": 0
      },
      "text/plain": [
       "Trial 3:   0%|          | 0/200 [00:00<?, ?it/s]"
      ]
     },
     "metadata": {},
     "output_type": "display_data"
    },
    {
     "name": "stderr",
     "output_type": "stream",
     "text": [
      "[I 2025-08-12 11:46:25,625] Trial 3 finished with value: 1350.9096022847234 and parameters: {'hidden_size': 112, 'num_layers': 1, 'batch_size': 52, 'dropout_rate': 0.2545474901621302, 'lr': 0.00023270677083837802}. Best is trial 3 with value: 1350.9096022847234.\n"
     ]
    },
    {
     "name": "stdout",
     "output_type": "stream",
     "text": [
      "Early stopping at epoch 64\n",
      "Best val_rmse: 1350.910 at epoch 48\n"
     ]
    },
    {
     "data": {
      "application/vnd.jupyter.widget-view+json": {
       "model_id": "6d4bb2f5dcfd4c0ea67ae9cc59b6c1e4",
       "version_major": 2,
       "version_minor": 0
      },
      "text/plain": [
       "Trial 4:   0%|          | 0/200 [00:00<?, ?it/s]"
      ]
     },
     "metadata": {},
     "output_type": "display_data"
    },
    {
     "name": "stderr",
     "output_type": "stream",
     "text": [
      "[I 2025-08-12 11:46:53,826] Trial 4 finished with value: 2523.0393420492433 and parameters: {'hidden_size': 61, 'num_layers': 1, 'batch_size': 82, 'dropout_rate': 0.3295835055926347, 'lr': 0.0003823475224675188}. Best is trial 3 with value: 1350.9096022847234.\n"
     ]
    },
    {
     "name": "stdout",
     "output_type": "stream",
     "text": [
      "Early stopping at epoch 50\n",
      "Best val_rmse: 2523.039 at epoch 34\n"
     ]
    },
    {
     "data": {
      "application/vnd.jupyter.widget-view+json": {
       "model_id": "4ad496fe83104abaa1c2409bcbbc46e5",
       "version_major": 2,
       "version_minor": 0
      },
      "text/plain": [
       "Trial 5:   0%|          | 0/200 [00:00<?, ?it/s]"
      ]
     },
     "metadata": {},
     "output_type": "display_data"
    },
    {
     "name": "stderr",
     "output_type": "stream",
     "text": [
      "[I 2025-08-12 11:47:32,907] Trial 5 finished with value: 1433.4057518296977 and parameters: {'hidden_size': 91, 'num_layers': 1, 'batch_size': 45, 'dropout_rate': 0.2876433945605654, 'lr': 0.0005404103854647331}. Best is trial 3 with value: 1350.9096022847234.\n"
     ]
    },
    {
     "name": "stdout",
     "output_type": "stream",
     "text": [
      "Early stopping at epoch 42\n",
      "Best val_rmse: 1433.406 at epoch 26\n"
     ]
    },
    {
     "data": {
      "application/vnd.jupyter.widget-view+json": {
       "model_id": "02503fe2569a4d51abb45da7d22d960f",
       "version_major": 2,
       "version_minor": 0
      },
      "text/plain": [
       "Trial 6:   0%|          | 0/200 [00:00<?, ?it/s]"
      ]
     },
     "metadata": {},
     "output_type": "display_data"
    },
    {
     "name": "stderr",
     "output_type": "stream",
     "text": [
      "[I 2025-08-12 11:47:50,926] Trial 6 finished with value: 1366.698667354457 and parameters: {'hidden_size': 76, 'num_layers': 1, 'batch_size': 108, 'dropout_rate': 0.25990213464750794, 'lr': 0.0010677482709481358}. Best is trial 3 with value: 1350.9096022847234.\n"
     ]
    },
    {
     "name": "stdout",
     "output_type": "stream",
     "text": [
      "Early stopping at epoch 39\n",
      "Best val_rmse: 1366.699 at epoch 23\n"
     ]
    },
    {
     "data": {
      "application/vnd.jupyter.widget-view+json": {
       "model_id": "03262ee8018d402c9d8e75c9cd924645",
       "version_major": 2,
       "version_minor": 0
      },
      "text/plain": [
       "Trial 7:   0%|          | 0/200 [00:00<?, ?it/s]"
      ]
     },
     "metadata": {},
     "output_type": "display_data"
    },
    {
     "name": "stderr",
     "output_type": "stream",
     "text": [
      "[I 2025-08-12 11:48:17,058] Trial 7 pruned. \n"
     ]
    },
    {
     "data": {
      "application/vnd.jupyter.widget-view+json": {
       "model_id": "bc0c6a25a05b44aeb166a4ba5c8cc7dc",
       "version_major": 2,
       "version_minor": 0
      },
      "text/plain": [
       "Trial 8:   0%|          | 0/200 [00:00<?, ?it/s]"
      ]
     },
     "metadata": {},
     "output_type": "display_data"
    },
    {
     "name": "stderr",
     "output_type": "stream",
     "text": [
      "[I 2025-08-12 11:48:26,561] Trial 8 pruned. \n"
     ]
    },
    {
     "data": {
      "application/vnd.jupyter.widget-view+json": {
       "model_id": "4436b1797cee41bd90c3fc700af7ea4f",
       "version_major": 2,
       "version_minor": 0
      },
      "text/plain": [
       "Trial 9:   0%|          | 0/200 [00:00<?, ?it/s]"
      ]
     },
     "metadata": {},
     "output_type": "display_data"
    },
    {
     "name": "stderr",
     "output_type": "stream",
     "text": [
      "[I 2025-08-12 11:49:03,832] Trial 9 finished with value: 1628.0249709202092 and parameters: {'hidden_size': 61, 'num_layers': 1, 'batch_size': 41, 'dropout_rate': 0.40526990795364704, 'lr': 0.0007591104805282694}. Best is trial 3 with value: 1350.9096022847234.\n"
     ]
    },
    {
     "name": "stdout",
     "output_type": "stream",
     "text": [
      "Early stopping at epoch 37\n",
      "Best val_rmse: 1628.025 at epoch 21\n"
     ]
    }
   ],
   "source": [
    "study.optimize(objective, n_trials=10)"
   ]
  },
  {
   "cell_type": "markdown",
   "id": "bdd1bcb7",
   "metadata": {},
   "source": [
    "## **View the best hyperparameters**"
   ]
  },
  {
   "cell_type": "code",
   "execution_count": 14,
   "id": "0cdfbe47",
   "metadata": {},
   "outputs": [
    {
     "data": {
      "text/plain": [
       "FrozenTrial(number=3, state=1, values=[1350.9096022847234], datetime_start=datetime.datetime(2025, 8, 12, 11, 45, 33, 63213), datetime_complete=datetime.datetime(2025, 8, 12, 11, 46, 25, 625657), params={'hidden_size': 112, 'num_layers': 1, 'batch_size': 52, 'dropout_rate': 0.2545474901621302, 'lr': 0.00023270677083837802}, user_attrs={'best_rmse': 1350.9096022847234, 'best_epoch': 48, 'final_train_rmse': 4011.319547586301, 'final_val_rmse': 2207.0775257861837}, system_attrs={}, intermediate_values={1: 20345.232609567287, 2: 20075.772646618254, 3: 19672.57474702683, 4: 19152.54758622105, 5: 18530.438235672977, 6: 17818.384641177407, 7: 17027.23648946549, 8: 16164.314696640933, 9: 15234.706651708057, 10: 14244.090662354136, 11: 13195.412951662942, 12: 12098.819640229774, 13: 10960.337245907562, 14: 9781.889541680324, 15: 8574.436149908131, 16: 7351.380738381751, 17: 6136.037275966699, 18: 4927.399443765371, 19: 3715.81210139023, 20: 2749.7458487801896, 21: 2611.2034130949355, 22: 3388.8813607833686, 23: 4606.421747957732, 24: 5751.746840709772, 25: 6967.503494883757, 26: 7737.834698233022, 27: 7703.403933410876, 28: 7386.668615410063, 29: 6840.6494590971, 30: 5511.111538775464, 31: 4492.588145564226, 32: 3933.583161184818, 33: 4328.727411610112, 34: 3547.5616542252646, 35: 3333.787803012615, 36: 2300.8588310578125, 37: 2286.126388426249, 38: 3292.6183430665287, 39: 2470.9212245849476, 40: 2533.6508759432977, 41: 2049.326558850852, 42: 1703.5190795946883, 43: 2324.135198296882, 44: 1841.7073737833787, 45: 1672.5412284610566, 46: 1828.9980869238454, 47: 1476.684778174091, 48: 1350.9096022847234, 49: 2026.5802849203744, 50: 2181.3487413159933, 51: 1740.2564502099635, 52: 1771.3583972667575, 53: 1957.0138430324146, 54: 2175.5369473646833, 55: 1547.858317302402, 56: 1679.4648710824804, 57: 1791.3552616677796, 58: 1981.560965659385, 59: 1705.2071815701436, 60: 1457.2376635322607, 61: 1964.7719385417683, 62: 1764.0499226105317, 63: 1806.1404343497159, 64: 2207.0775257861837}, distributions={'hidden_size': IntDistribution(high=128, log=False, low=32, step=1), 'num_layers': IntDistribution(high=1, log=False, low=1, step=1), 'batch_size': IntDistribution(high=128, log=False, low=32, step=1), 'dropout_rate': FloatDistribution(high=0.5, log=False, low=0.2, step=None), 'lr': FloatDistribution(high=0.01, log=True, low=0.0001, step=None)}, trial_id=3, value=None)"
      ]
     },
     "execution_count": 14,
     "metadata": {},
     "output_type": "execute_result"
    }
   ],
   "source": [
    "best_trial = study.best_trial\n",
    "best_trial"
   ]
  },
  {
   "cell_type": "code",
   "execution_count": 15,
   "id": "d59c841a",
   "metadata": {},
   "outputs": [
    {
     "data": {
      "text/plain": [
       "{'hidden_size': 112,\n",
       " 'num_layers': 1,\n",
       " 'batch_size': 52,\n",
       " 'dropout_rate': 0.2545474901621302,\n",
       " 'lr': 0.00023270677083837802}"
      ]
     },
     "execution_count": 15,
     "metadata": {},
     "output_type": "execute_result"
    }
   ],
   "source": [
    "best_trial.params"
   ]
  },
  {
   "cell_type": "code",
   "execution_count": 16,
   "id": "b7469b0f",
   "metadata": {},
   "outputs": [
    {
     "name": "stdout",
     "output_type": "stream",
     "text": [
      "Best RMSE: 1350.909602\n",
      "Best epoch: 48\n",
      "Final train RMSE: 4011.319548\n",
      "Final val RMSE: 2207.077526\n"
     ]
    }
   ],
   "source": [
    "best_rmse = best_trial.user_attrs[\"best_rmse\"]\n",
    "best_epoch = best_trial.user_attrs[\"best_epoch\"]\n",
    "final_train_rmse = best_trial.user_attrs[\"final_train_rmse\"]\n",
    "final_val_rmse = best_trial.user_attrs[\"final_val_rmse\"]\n",
    "\n",
    "print(f\"Best RMSE: {best_rmse:.6f}\")\n",
    "print(f\"Best epoch: {best_epoch}\")\n",
    "print(f\"Final train RMSE: {final_train_rmse:.6f}\")\n",
    "print(f\"Final val RMSE: {final_val_rmse:.6f}\")"
   ]
  },
  {
   "cell_type": "markdown",
   "id": "0583703b",
   "metadata": {},
   "source": [
    "## **Train the LSTM model on the best hyperparameters**"
   ]
  },
  {
   "cell_type": "code",
   "execution_count": 18,
   "id": "821725a8",
   "metadata": {},
   "outputs": [
    {
     "data": {
      "application/vnd.jupyter.widget-view+json": {
       "model_id": "0cee010d782f47909b251cf9e7430fc2",
       "version_major": 2,
       "version_minor": 0
      },
      "text/plain": [
       "Trial:   0%|          | 0/48 [00:00<?, ?it/s]"
      ]
     },
     "metadata": {},
     "output_type": "display_data"
    }
   ],
   "source": [
    "train_loader = DataLoader(TRAIN_TENSOR_DATASET, batch_size=best_trial.params[\"batch_size\"], shuffle=True)\n",
    "\n",
    "n_epochs = best_trial.user_attrs[\"best_epoch\"]\n",
    "\n",
    "model = FinancialLSTMRegressor(\n",
    "    hidden_size=best_trial.params[\"hidden_size\"],\n",
    "    num_layers=best_trial.params[\"num_layers\"],\n",
    "    dropout_rate=best_trial.params[\"dropout_rate\"]\n",
    ").to(DEVICE)\n",
    "\n",
    "optimizer = optim.Adam(model.parameters(), lr=best_trial.params['lr'])\n",
    "\n",
    "with tqdm(total=n_epochs, desc=f\"Trial\", leave=False) as pbar:\n",
    "    for epoch in range(n_epochs):\n",
    "        train_mse = train_one_epoch(model=model, train_loader=train_loader, optimizer=optimizer)\n",
    "        train_rmse = np.sqrt(train_mse)\n",
    "\n",
    "        pbar.set_postfix({\n",
    "            \"train_rmse\": f\"{train_rmse:.6f}\"\n",
    "        })\n",
    "        pbar.update(1)"
   ]
  },
  {
   "cell_type": "markdown",
   "id": "18b94680",
   "metadata": {},
   "source": [
    "## **Evaluate the LSTM model**"
   ]
  },
  {
   "cell_type": "code",
   "execution_count": 21,
   "id": "d4b915e5",
   "metadata": {},
   "outputs": [
    {
     "data": {
      "text/plain": [
       "np.float64(4555.175563459584)"
      ]
     },
     "execution_count": 21,
     "metadata": {},
     "output_type": "execute_result"
    }
   ],
   "source": [
    "test_loader = DataLoader(TEST_TENSOR_DATASET, batch_size=best_trial.params[\"batch_size\"], shuffle=False)\n",
    "\n",
    "model.eval()  \n",
    "all_preds, all_targets = [], []\n",
    "\n",
    "with torch.no_grad():\n",
    "    for X_batch, y_batch in test_loader:\n",
    "        X_batch, y_batch = X_batch.to(DEVICE), y_batch.to(DEVICE)\n",
    "        \n",
    "        output = model(X_batch).squeeze(-1)\n",
    "\n",
    "        all_preds.extend(output.cpu().numpy())\n",
    "        all_targets.extend(y_batch.cpu().numpy())\n",
    "\n",
    "test_mse = mean_squared_error(all_targets, all_preds)\n",
    "test_rmse = np.sqrt(test_mse)\n",
    "test_rmse"
   ]
  },
  {
   "cell_type": "code",
   "execution_count": 22,
   "id": "d9ab9fad",
   "metadata": {},
   "outputs": [
    {
     "data": {
      "text/plain": [
       "<Figure size 2000x1000 with 0 Axes>"
      ]
     },
     "metadata": {},
     "output_type": "display_data"
    },
    {
     "data": {
      "image/png": "[encoded data removed]",
      "text/plain": [
       "<Figure size 2000x1000 with 1 Axes>"
      ]
     },
     "metadata": {},
     "output_type": "display_data"
    }
   ],
   "source": [
    "# Visualization of results\n",
    "plt.figure(figsize=(20, 10))\n",
    "\n",
    "train_timestamps = TRAIN_DATASET.index\n",
    "test_timestamps = TEST_DATASET.index\n",
    "\n",
    "# Plotting the data\n",
    "# For train data, use actual target values\n",
    "train_targets = TRAIN_DATASET['target'].values\n",
    "\n",
    "# Assuming that all_targets and all_preds have the same length\n",
    "num_test_points = len(all_targets)\n",
    "\n",
    "# Take the last num_test_points from the test timestamps\n",
    "aligned_test_timestamps = test_timestamps[-num_test_points:]\n",
    "\n",
    "# Plotting the data\n",
    "plt.figure(figsize=(20, 10))\n",
    "plt.plot(train_timestamps, train_targets, label='Actual (Train)', linewidth=2, color='blue', alpha=0.7)\n",
    "plt.plot(aligned_test_timestamps, all_targets, label='Actual (Test)', linewidth=2, color='green')\n",
    "plt.plot(aligned_test_timestamps, all_preds, label='Predicted (Test)', linewidth=2, color='orange')\n",
    "\n",
    "plt.xlabel('Time Steps', fontsize=12)\n",
    "plt.ylabel('Price', fontsize=12)\n",
    "plt.grid(True, alpha=0.3)\n",
    "plt.legend(fontsize=12)\n",
    "plt.tight_layout()\n",
    "plt.xticks(rotation=45)\n",
    "plt.show()"
   ]
  },
  {
   "cell_type": "markdown",
   "id": "b509caec",
   "metadata": {},
   "source": [
    "## **Conclusion**\n",
    "\n",
    "Based on the evaluation results, the LSTM model performs worse than the GBDT model. Despite attempts to improve performance by increasing model complexity and expanding the hyperparameter search space, these efforts did not yield better results. \n",
    "\n",
    "Either a different deep learning architecture should be explored, or further feature engineering is needed to extract more meaningful signals from the data before applying LSTM models."
   ]
  }
 ],
 "metadata": {
  "kernelspec": {
   "display_name": "Python 3",
   "language": "python",
   "name": "python3"
  },
  "language_info": {
   "codemirror_mode": {
    "name": "ipython",
    "version": 3
   },
   "file_extension": ".py",
   "mimetype": "text/x-python",
   "name": "python",
   "nbconvert_exporter": "python",
   "pygments_lexer": "ipython3",
   "version": "3.12.11"
  }
 },
 "nbformat": 4,
 "nbformat_minor": 5
}
