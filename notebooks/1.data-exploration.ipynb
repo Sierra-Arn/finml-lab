{
 "cells": [
  {
   "cell_type": "markdown",
   "id": "cdcbbc31",
   "metadata": {},
   "source": [
    "# **Data Exploration Notebook**\n",
    "\n",
    "This notebook performs initial data exploration and preprocessing:\n",
    "\n",
    "- Download raw data.\n",
    "- Load and examine the dataset structure.\n",
    "- Rename columns for clarity.\n",
    "- Transform datetime column into proper index format.\n",
    "- Validate target variable suitability for machine learning tasks.\n",
    "- Aggregate data to prepare features for modeling.\n",
    "- Save preprocessed dataset for further analysis.\n",
    "\n",
    "---"
   ]
  },
  {
   "cell_type": "markdown",
   "id": "363db6bf",
   "metadata": {},
   "source": [
    "## **Import required libraries**"
   ]
  },
  {
   "cell_type": "code",
   "execution_count": 1,
   "id": "4ca143ef",
   "metadata": {},
   "outputs": [],
   "source": [
    "# notebooks/1.data-exploration.ipynb\n",
    "import pandas as pd\n",
    "import matplotlib.pyplot as plt\n",
    "from huggingface_hub import hf_hub_download"
   ]
  },
  {
   "cell_type": "markdown",
   "id": "836155fc",
   "metadata": {},
   "source": [
    "## **Download the raw BTC/USDT cryptocurrency data**"
   ]
  },
  {
   "cell_type": "code",
   "execution_count": 2,
   "id": "d0ce8014",
   "metadata": {},
   "outputs": [
    {
     "data": {
      "text/plain": [
       "'../data/raw/BTCUSDT.parquet'"
      ]
     },
     "execution_count": 2,
     "metadata": {},
     "output_type": "execute_result"
    }
   ],
   "source": [
    "hf_hub_download(\n",
    "    repo_id=\"Sierra-Arn/finml-lab-data\",\n",
    "    filename=\"raw/BTCUSDT.parquet\",\n",
    "    repo_type=\"dataset\",\n",
    "    local_dir=\"../data\"\n",
    ")\n",
    "\n",
    "# Note: If preferred, this dataset can also be downloaded manually from Kaggle at:\n",
    "# https://www.kaggle.com/datasets/arthurneuron/cryptocurrency-futures-ohlcv-dataset-1m-2024"
   ]
  },
  {
   "cell_type": "markdown",
   "id": "c436f081",
   "metadata": {},
   "source": [
    "## **Note: difference between parquet and csv**\n",
    "\n",
    "### **CSV (Comma-Separated Values)**\n",
    "— text storage format where data is stored as rows with delimiters.\n",
    "\n",
    "**Advantages**\n",
    "- **Human-readable** — can be opened in any text editor.\n",
    "- **Universal** — supported by all programs and tools.\n",
    "\n",
    "**Disadvantages**\n",
    "- **Large file size** — text takes more storage space.\n",
    "- **Slow loading** — requires parsing each row.\n",
    "- **No data types** — everything stored as strings.\n",
    "\n",
    "### **Parquet**\n",
    "— binary columnar storage format designed for efficient data storage and analytics.\n",
    "\n",
    "**Advantages**\n",
    "- **Small file size** — compression up to 10x better than CSV.\n",
    "- **Fast loading** — optimized for analytical queries.\n",
    "- **Data types preserved** — maintains exact types (int, float, datetime, etc.).\n",
    "- **Complex structures** — supports indexes, multi-indexes, etc.\n",
    "\n",
    "**Disadvantages**\n",
    "- **Not human-readable** — binary format.\n",
    "- **Requires special libraries** — cannot be opened in text editors. For instance, this project uses PyArrow to handle Parquet files — without it, Python cannot read and write these files."
   ]
  },
  {
   "cell_type": "markdown",
   "id": "2a3bdd48",
   "metadata": {},
   "source": [
    "## **Read the raw data**"
   ]
  },
  {
   "cell_type": "code",
   "execution_count": 3,
   "id": "12d7144f",
   "metadata": {},
   "outputs": [
    {
     "data": {
      "application/vnd.microsoft.datawrangler.viewer.v0+json": {
       "columns": [
        {
         "name": "index",
         "rawType": "int64",
         "type": "integer"
        },
        {
         "name": "d",
         "rawType": "int64",
         "type": "integer"
        },
        {
         "name": "o",
         "rawType": "float64",
         "type": "float"
        },
        {
         "name": "h",
         "rawType": "float64",
         "type": "float"
        },
        {
         "name": "l",
         "rawType": "float64",
         "type": "float"
        },
        {
         "name": "c",
         "rawType": "float64",
         "type": "float"
        },
        {
         "name": "v",
         "rawType": "float64",
         "type": "float"
        }
       ],
       "ref": "66a5549e-4163-4090-8392-1a3085653145",
       "rows": [
        [
         "0",
         "1567965420000",
         "10000.0",
         "10000.0",
         "10000.0",
         "10000.0",
         "0.001"
        ],
        [
         "1",
         "1567965480000",
         "10000.0",
         "10000.0",
         "10000.0",
         "10000.0",
         "0.0"
        ],
        [
         "2",
         "1567965540000",
         "10000.0",
         "10000.0",
         "10000.0",
         "10000.0",
         "0.001"
        ],
        [
         "3",
         "1567965600000",
         "10000.0",
         "10000.0",
         "10000.0",
         "10000.0",
         "0.0"
        ],
        [
         "4",
         "1567965660000",
         "10000.0",
         "10000.0",
         "10000.0",
         "10000.0",
         "0.0"
        ],
        [
         "5",
         "1567965720000",
         "10000.0",
         "10000.0",
         "10000.0",
         "10000.0",
         "0.0"
        ],
        [
         "6",
         "1567965780000",
         "10000.0",
         "10000.0",
         "10000.0",
         "10000.0",
         "0.0"
        ],
        [
         "7",
         "1567965840000",
         "10000.0",
         "10000.0",
         "10000.0",
         "10000.0",
         "0.0"
        ],
        [
         "8",
         "1567965900000",
         "10000.0",
         "10000.0",
         "10000.0",
         "10000.0",
         "0.0"
        ],
        [
         "9",
         "1567965960000",
         "10000.0",
         "10000.0",
         "10000.0",
         "10000.0",
         "0.0"
        ],
        [
         "10",
         "1567966020000",
         "10000.0",
         "10000.0",
         "10000.0",
         "10000.0",
         "0.0"
        ],
        [
         "11",
         "1567966080000",
         "10000.0",
         "10000.0",
         "10000.0",
         "10000.0",
         "0.0"
        ],
        [
         "12",
         "1567966140000",
         "10000.0",
         "10000.0",
         "10000.0",
         "10000.0",
         "0.0"
        ],
        [
         "13",
         "1567966200000",
         "10000.0",
         "10000.0",
         "10000.0",
         "10000.0",
         "0.0"
        ],
        [
         "14",
         "1567966260000",
         "10000.0",
         "10000.0",
         "10000.0",
         "10000.0",
         "0.0"
        ],
        [
         "15",
         "1567966320000",
         "10000.0",
         "10000.0",
         "10000.0",
         "10000.0",
         "0.0"
        ],
        [
         "16",
         "1567966380000",
         "10000.0",
         "10000.0",
         "10000.0",
         "10000.0",
         "0.0"
        ],
        [
         "17",
         "1567966440000",
         "10000.0",
         "10000.0",
         "10000.0",
         "10000.0",
         "0.0"
        ],
        [
         "18",
         "1567966500000",
         "10000.0",
         "10000.0",
         "10000.0",
         "10000.0",
         "0.0"
        ],
        [
         "19",
         "1567966560000",
         "10000.0",
         "10000.0",
         "10000.0",
         "10000.0",
         "0.0"
        ],
        [
         "20",
         "1567966620000",
         "10000.0",
         "10000.0",
         "10000.0",
         "10000.0",
         "0.0"
        ],
        [
         "21",
         "1567966680000",
         "10000.0",
         "10000.0",
         "10000.0",
         "10000.0",
         "0.0"
        ],
        [
         "22",
         "1567966740000",
         "10000.0",
         "10000.0",
         "10000.0",
         "10000.0",
         "0.0"
        ],
        [
         "23",
         "1567966800000",
         "10000.0",
         "10000.0",
         "10000.0",
         "10000.0",
         "0.0"
        ],
        [
         "24",
         "1567966860000",
         "10000.0",
         "10000.0",
         "10000.0",
         "10000.0",
         "0.0"
        ],
        [
         "25",
         "1567966920000",
         "10000.0",
         "10000.0",
         "10000.0",
         "10000.0",
         "0.0"
        ],
        [
         "26",
         "1567966980000",
         "10000.0",
         "10000.0",
         "10000.0",
         "10000.0",
         "0.0"
        ],
        [
         "27",
         "1567967040000",
         "10000.0",
         "10000.0",
         "10000.0",
         "10000.0",
         "0.0"
        ],
        [
         "28",
         "1567967100000",
         "10000.0",
         "10000.0",
         "10000.0",
         "10000.0",
         "0.0"
        ],
        [
         "29",
         "1567967160000",
         "10000.0",
         "10000.0",
         "10000.0",
         "10000.0",
         "0.0"
        ],
        [
         "30",
         "1567967220000",
         "10000.0",
         "10000.0",
         "10000.0",
         "10000.0",
         "0.0"
        ],
        [
         "31",
         "1567967280000",
         "10000.0",
         "10000.0",
         "10000.0",
         "10000.0",
         "0.0"
        ],
        [
         "32",
         "1567967340000",
         "10000.0",
         "10000.0",
         "10000.0",
         "10000.0",
         "0.0"
        ],
        [
         "33",
         "1567967400000",
         "10000.0",
         "10000.0",
         "10000.0",
         "10000.0",
         "0.0"
        ],
        [
         "34",
         "1567967460000",
         "10000.0",
         "10000.0",
         "10000.0",
         "10000.0",
         "0.0"
        ],
        [
         "35",
         "1567967520000",
         "10000.0",
         "10000.0",
         "10000.0",
         "10000.0",
         "0.0"
        ],
        [
         "36",
         "1567967580000",
         "10000.0",
         "10000.0",
         "10000.0",
         "10000.0",
         "0.0"
        ],
        [
         "37",
         "1567967640000",
         "10000.0",
         "10000.0",
         "10000.0",
         "10000.0",
         "0.0"
        ],
        [
         "38",
         "1567967700000",
         "10000.0",
         "10000.0",
         "10000.0",
         "10000.0",
         "0.0"
        ],
        [
         "39",
         "1567967760000",
         "10000.0",
         "10000.0",
         "10000.0",
         "10000.0",
         "0.0"
        ],
        [
         "40",
         "1567967820000",
         "10000.0",
         "10000.0",
         "10000.0",
         "10000.0",
         "0.0"
        ],
        [
         "41",
         "1567967880000",
         "10000.0",
         "10000.0",
         "10000.0",
         "10000.0",
         "0.0"
        ],
        [
         "42",
         "1567967940000",
         "10000.0",
         "10000.0",
         "10000.0",
         "10000.0",
         "0.0"
        ],
        [
         "43",
         "1567968000000",
         "10000.0",
         "10000.0",
         "10000.0",
         "10000.0",
         "0.0"
        ],
        [
         "44",
         "1567968060000",
         "10000.0",
         "10000.0",
         "10000.0",
         "10000.0",
         "0.0"
        ],
        [
         "45",
         "1567968120000",
         "10000.0",
         "10000.0",
         "10000.0",
         "10000.0",
         "0.0"
        ],
        [
         "46",
         "1567968180000",
         "10000.0",
         "10000.0",
         "10000.0",
         "10000.0",
         "0.0"
        ],
        [
         "47",
         "1567968240000",
         "10000.0",
         "10000.0",
         "10000.0",
         "10000.0",
         "0.0"
        ],
        [
         "48",
         "1567968300000",
         "10000.0",
         "10000.0",
         "10000.0",
         "10000.0",
         "0.0"
        ],
        [
         "49",
         "1567968360000",
         "10000.0",
         "10000.0",
         "10000.0",
         "10000.0",
         "0.0"
        ]
       ],
       "shape": {
        "columns": 6,
        "rows": 2313770
       }
      },
      "text/html": [
       "<div>\n",
       "<style scoped>\n",
       "    .dataframe tbody tr th:only-of-type {\n",
       "        vertical-align: middle;\n",
       "    }\n",
       "\n",
       "    .dataframe tbody tr th {\n",
       "        vertical-align: top;\n",
       "    }\n",
       "\n",
       "    .dataframe thead th {\n",
       "        text-align: right;\n",
       "    }\n",
       "</style>\n",
       "<table border=\"1\" class=\"dataframe\">\n",
       "  <thead>\n",
       "    <tr style=\"text-align: right;\">\n",
       "      <th></th>\n",
       "      <th>d</th>\n",
       "      <th>o</th>\n",
       "      <th>h</th>\n",
       "      <th>l</th>\n",
       "      <th>c</th>\n",
       "      <th>v</th>\n",
       "    </tr>\n",
       "  </thead>\n",
       "  <tbody>\n",
       "    <tr>\n",
       "      <th>0</th>\n",
       "      <td>1567965420000</td>\n",
       "      <td>10000.0</td>\n",
       "      <td>10000.0</td>\n",
       "      <td>10000.0</td>\n",
       "      <td>10000.0</td>\n",
       "      <td>0.001</td>\n",
       "    </tr>\n",
       "    <tr>\n",
       "      <th>1</th>\n",
       "      <td>1567965480000</td>\n",
       "      <td>10000.0</td>\n",
       "      <td>10000.0</td>\n",
       "      <td>10000.0</td>\n",
       "      <td>10000.0</td>\n",
       "      <td>0.000</td>\n",
       "    </tr>\n",
       "    <tr>\n",
       "      <th>2</th>\n",
       "      <td>1567965540000</td>\n",
       "      <td>10000.0</td>\n",
       "      <td>10000.0</td>\n",
       "      <td>10000.0</td>\n",
       "      <td>10000.0</td>\n",
       "      <td>0.001</td>\n",
       "    </tr>\n",
       "    <tr>\n",
       "      <th>3</th>\n",
       "      <td>1567965600000</td>\n",
       "      <td>10000.0</td>\n",
       "      <td>10000.0</td>\n",
       "      <td>10000.0</td>\n",
       "      <td>10000.0</td>\n",
       "      <td>0.000</td>\n",
       "    </tr>\n",
       "    <tr>\n",
       "      <th>4</th>\n",
       "      <td>1567965660000</td>\n",
       "      <td>10000.0</td>\n",
       "      <td>10000.0</td>\n",
       "      <td>10000.0</td>\n",
       "      <td>10000.0</td>\n",
       "      <td>0.000</td>\n",
       "    </tr>\n",
       "    <tr>\n",
       "      <th>...</th>\n",
       "      <td>...</td>\n",
       "      <td>...</td>\n",
       "      <td>...</td>\n",
       "      <td>...</td>\n",
       "      <td>...</td>\n",
       "      <td>...</td>\n",
       "    </tr>\n",
       "    <tr>\n",
       "      <th>2313765</th>\n",
       "      <td>1706791380000</td>\n",
       "      <td>42181.8</td>\n",
       "      <td>42188.7</td>\n",
       "      <td>42177.2</td>\n",
       "      <td>42181.2</td>\n",
       "      <td>69.862</td>\n",
       "    </tr>\n",
       "    <tr>\n",
       "      <th>2313766</th>\n",
       "      <td>1706791440000</td>\n",
       "      <td>42181.1</td>\n",
       "      <td>42181.1</td>\n",
       "      <td>42177.4</td>\n",
       "      <td>42178.3</td>\n",
       "      <td>35.439</td>\n",
       "    </tr>\n",
       "    <tr>\n",
       "      <th>2313767</th>\n",
       "      <td>1706791500000</td>\n",
       "      <td>42178.3</td>\n",
       "      <td>42207.0</td>\n",
       "      <td>42168.4</td>\n",
       "      <td>42202.5</td>\n",
       "      <td>145.601</td>\n",
       "    </tr>\n",
       "    <tr>\n",
       "      <th>2313768</th>\n",
       "      <td>1706791560000</td>\n",
       "      <td>42202.4</td>\n",
       "      <td>42229.9</td>\n",
       "      <td>42196.3</td>\n",
       "      <td>42209.1</td>\n",
       "      <td>180.169</td>\n",
       "    </tr>\n",
       "    <tr>\n",
       "      <th>2313769</th>\n",
       "      <td>1706791620000</td>\n",
       "      <td>42209.2</td>\n",
       "      <td>42211.7</td>\n",
       "      <td>42177.0</td>\n",
       "      <td>42177.0</td>\n",
       "      <td>55.891</td>\n",
       "    </tr>\n",
       "  </tbody>\n",
       "</table>\n",
       "<p>2313770 rows × 6 columns</p>\n",
       "</div>"
      ],
      "text/plain": [
       "                     d        o        h        l        c        v\n",
       "0        1567965420000  10000.0  10000.0  10000.0  10000.0    0.001\n",
       "1        1567965480000  10000.0  10000.0  10000.0  10000.0    0.000\n",
       "2        1567965540000  10000.0  10000.0  10000.0  10000.0    0.001\n",
       "3        1567965600000  10000.0  10000.0  10000.0  10000.0    0.000\n",
       "4        1567965660000  10000.0  10000.0  10000.0  10000.0    0.000\n",
       "...                ...      ...      ...      ...      ...      ...\n",
       "2313765  1706791380000  42181.8  42188.7  42177.2  42181.2   69.862\n",
       "2313766  1706791440000  42181.1  42181.1  42177.4  42178.3   35.439\n",
       "2313767  1706791500000  42178.3  42207.0  42168.4  42202.5  145.601\n",
       "2313768  1706791560000  42202.4  42229.9  42196.3  42209.1  180.169\n",
       "2313769  1706791620000  42209.2  42211.7  42177.0  42177.0   55.891\n",
       "\n",
       "[2313770 rows x 6 columns]"
      ]
     },
     "execution_count": 3,
     "metadata": {},
     "output_type": "execute_result"
    }
   ],
   "source": [
    "# data_df = pd.read_csv(\"../data/raw/BTCUSDT.csv\")\n",
    "data_df = pd.read_parquet(\"../data/raw/BTCUSDT.parquet\")\n",
    "data_df"
   ]
  },
  {
   "cell_type": "markdown",
   "id": "0dcf052a",
   "metadata": {},
   "source": [
    "## **Rename columns for clarity and transform datetime column into proper index format**"
   ]
  },
  {
   "cell_type": "code",
   "execution_count": 4,
   "id": "0bdfb092",
   "metadata": {},
   "outputs": [
    {
     "data": {
      "application/vnd.microsoft.datawrangler.viewer.v0+json": {
       "columns": [
        {
         "name": "datetime",
         "rawType": "datetime64[ns]",
         "type": "datetime"
        },
        {
         "name": "open",
         "rawType": "float64",
         "type": "float"
        },
        {
         "name": "high",
         "rawType": "float64",
         "type": "float"
        },
        {
         "name": "low",
         "rawType": "float64",
         "type": "float"
        },
        {
         "name": "close",
         "rawType": "float64",
         "type": "float"
        },
        {
         "name": "volume",
         "rawType": "float64",
         "type": "float"
        }
       ],
       "ref": "55039e29-c439-4736-82e7-d5e254048d87",
       "rows": [
        [
         "2019-09-08 17:57:00",
         "10000.0",
         "10000.0",
         "10000.0",
         "10000.0",
         "0.001"
        ],
        [
         "2019-09-08 17:58:00",
         "10000.0",
         "10000.0",
         "10000.0",
         "10000.0",
         "0.0"
        ],
        [
         "2019-09-08 17:59:00",
         "10000.0",
         "10000.0",
         "10000.0",
         "10000.0",
         "0.001"
        ],
        [
         "2019-09-08 18:00:00",
         "10000.0",
         "10000.0",
         "10000.0",
         "10000.0",
         "0.0"
        ],
        [
         "2019-09-08 18:01:00",
         "10000.0",
         "10000.0",
         "10000.0",
         "10000.0",
         "0.0"
        ],
        [
         "2019-09-08 18:02:00",
         "10000.0",
         "10000.0",
         "10000.0",
         "10000.0",
         "0.0"
        ],
        [
         "2019-09-08 18:03:00",
         "10000.0",
         "10000.0",
         "10000.0",
         "10000.0",
         "0.0"
        ],
        [
         "2019-09-08 18:04:00",
         "10000.0",
         "10000.0",
         "10000.0",
         "10000.0",
         "0.0"
        ],
        [
         "2019-09-08 18:05:00",
         "10000.0",
         "10000.0",
         "10000.0",
         "10000.0",
         "0.0"
        ],
        [
         "2019-09-08 18:06:00",
         "10000.0",
         "10000.0",
         "10000.0",
         "10000.0",
         "0.0"
        ],
        [
         "2019-09-08 18:07:00",
         "10000.0",
         "10000.0",
         "10000.0",
         "10000.0",
         "0.0"
        ],
        [
         "2019-09-08 18:08:00",
         "10000.0",
         "10000.0",
         "10000.0",
         "10000.0",
         "0.0"
        ],
        [
         "2019-09-08 18:09:00",
         "10000.0",
         "10000.0",
         "10000.0",
         "10000.0",
         "0.0"
        ],
        [
         "2019-09-08 18:10:00",
         "10000.0",
         "10000.0",
         "10000.0",
         "10000.0",
         "0.0"
        ],
        [
         "2019-09-08 18:11:00",
         "10000.0",
         "10000.0",
         "10000.0",
         "10000.0",
         "0.0"
        ],
        [
         "2019-09-08 18:12:00",
         "10000.0",
         "10000.0",
         "10000.0",
         "10000.0",
         "0.0"
        ],
        [
         "2019-09-08 18:13:00",
         "10000.0",
         "10000.0",
         "10000.0",
         "10000.0",
         "0.0"
        ],
        [
         "2019-09-08 18:14:00",
         "10000.0",
         "10000.0",
         "10000.0",
         "10000.0",
         "0.0"
        ],
        [
         "2019-09-08 18:15:00",
         "10000.0",
         "10000.0",
         "10000.0",
         "10000.0",
         "0.0"
        ],
        [
         "2019-09-08 18:16:00",
         "10000.0",
         "10000.0",
         "10000.0",
         "10000.0",
         "0.0"
        ],
        [
         "2019-09-08 18:17:00",
         "10000.0",
         "10000.0",
         "10000.0",
         "10000.0",
         "0.0"
        ],
        [
         "2019-09-08 18:18:00",
         "10000.0",
         "10000.0",
         "10000.0",
         "10000.0",
         "0.0"
        ],
        [
         "2019-09-08 18:19:00",
         "10000.0",
         "10000.0",
         "10000.0",
         "10000.0",
         "0.0"
        ],
        [
         "2019-09-08 18:20:00",
         "10000.0",
         "10000.0",
         "10000.0",
         "10000.0",
         "0.0"
        ],
        [
         "2019-09-08 18:21:00",
         "10000.0",
         "10000.0",
         "10000.0",
         "10000.0",
         "0.0"
        ],
        [
         "2019-09-08 18:22:00",
         "10000.0",
         "10000.0",
         "10000.0",
         "10000.0",
         "0.0"
        ],
        [
         "2019-09-08 18:23:00",
         "10000.0",
         "10000.0",
         "10000.0",
         "10000.0",
         "0.0"
        ],
        [
         "2019-09-08 18:24:00",
         "10000.0",
         "10000.0",
         "10000.0",
         "10000.0",
         "0.0"
        ],
        [
         "2019-09-08 18:25:00",
         "10000.0",
         "10000.0",
         "10000.0",
         "10000.0",
         "0.0"
        ],
        [
         "2019-09-08 18:26:00",
         "10000.0",
         "10000.0",
         "10000.0",
         "10000.0",
         "0.0"
        ],
        [
         "2019-09-08 18:27:00",
         "10000.0",
         "10000.0",
         "10000.0",
         "10000.0",
         "0.0"
        ],
        [
         "2019-09-08 18:28:00",
         "10000.0",
         "10000.0",
         "10000.0",
         "10000.0",
         "0.0"
        ],
        [
         "2019-09-08 18:29:00",
         "10000.0",
         "10000.0",
         "10000.0",
         "10000.0",
         "0.0"
        ],
        [
         "2019-09-08 18:30:00",
         "10000.0",
         "10000.0",
         "10000.0",
         "10000.0",
         "0.0"
        ],
        [
         "2019-09-08 18:31:00",
         "10000.0",
         "10000.0",
         "10000.0",
         "10000.0",
         "0.0"
        ],
        [
         "2019-09-08 18:32:00",
         "10000.0",
         "10000.0",
         "10000.0",
         "10000.0",
         "0.0"
        ],
        [
         "2019-09-08 18:33:00",
         "10000.0",
         "10000.0",
         "10000.0",
         "10000.0",
         "0.0"
        ],
        [
         "2019-09-08 18:34:00",
         "10000.0",
         "10000.0",
         "10000.0",
         "10000.0",
         "0.0"
        ],
        [
         "2019-09-08 18:35:00",
         "10000.0",
         "10000.0",
         "10000.0",
         "10000.0",
         "0.0"
        ],
        [
         "2019-09-08 18:36:00",
         "10000.0",
         "10000.0",
         "10000.0",
         "10000.0",
         "0.0"
        ],
        [
         "2019-09-08 18:37:00",
         "10000.0",
         "10000.0",
         "10000.0",
         "10000.0",
         "0.0"
        ],
        [
         "2019-09-08 18:38:00",
         "10000.0",
         "10000.0",
         "10000.0",
         "10000.0",
         "0.0"
        ],
        [
         "2019-09-08 18:39:00",
         "10000.0",
         "10000.0",
         "10000.0",
         "10000.0",
         "0.0"
        ],
        [
         "2019-09-08 18:40:00",
         "10000.0",
         "10000.0",
         "10000.0",
         "10000.0",
         "0.0"
        ],
        [
         "2019-09-08 18:41:00",
         "10000.0",
         "10000.0",
         "10000.0",
         "10000.0",
         "0.0"
        ],
        [
         "2019-09-08 18:42:00",
         "10000.0",
         "10000.0",
         "10000.0",
         "10000.0",
         "0.0"
        ],
        [
         "2019-09-08 18:43:00",
         "10000.0",
         "10000.0",
         "10000.0",
         "10000.0",
         "0.0"
        ],
        [
         "2019-09-08 18:44:00",
         "10000.0",
         "10000.0",
         "10000.0",
         "10000.0",
         "0.0"
        ],
        [
         "2019-09-08 18:45:00",
         "10000.0",
         "10000.0",
         "10000.0",
         "10000.0",
         "0.0"
        ],
        [
         "2019-09-08 18:46:00",
         "10000.0",
         "10000.0",
         "10000.0",
         "10000.0",
         "0.0"
        ]
       ],
       "shape": {
        "columns": 5,
        "rows": 2313770
       }
      },
      "text/html": [
       "<div>\n",
       "<style scoped>\n",
       "    .dataframe tbody tr th:only-of-type {\n",
       "        vertical-align: middle;\n",
       "    }\n",
       "\n",
       "    .dataframe tbody tr th {\n",
       "        vertical-align: top;\n",
       "    }\n",
       "\n",
       "    .dataframe thead th {\n",
       "        text-align: right;\n",
       "    }\n",
       "</style>\n",
       "<table border=\"1\" class=\"dataframe\">\n",
       "  <thead>\n",
       "    <tr style=\"text-align: right;\">\n",
       "      <th></th>\n",
       "      <th>open</th>\n",
       "      <th>high</th>\n",
       "      <th>low</th>\n",
       "      <th>close</th>\n",
       "      <th>volume</th>\n",
       "    </tr>\n",
       "    <tr>\n",
       "      <th>datetime</th>\n",
       "      <th></th>\n",
       "      <th></th>\n",
       "      <th></th>\n",
       "      <th></th>\n",
       "      <th></th>\n",
       "    </tr>\n",
       "  </thead>\n",
       "  <tbody>\n",
       "    <tr>\n",
       "      <th>2019-09-08 17:57:00</th>\n",
       "      <td>10000.0</td>\n",
       "      <td>10000.0</td>\n",
       "      <td>10000.0</td>\n",
       "      <td>10000.0</td>\n",
       "      <td>0.001</td>\n",
       "    </tr>\n",
       "    <tr>\n",
       "      <th>2019-09-08 17:58:00</th>\n",
       "      <td>10000.0</td>\n",
       "      <td>10000.0</td>\n",
       "      <td>10000.0</td>\n",
       "      <td>10000.0</td>\n",
       "      <td>0.000</td>\n",
       "    </tr>\n",
       "    <tr>\n",
       "      <th>2019-09-08 17:59:00</th>\n",
       "      <td>10000.0</td>\n",
       "      <td>10000.0</td>\n",
       "      <td>10000.0</td>\n",
       "      <td>10000.0</td>\n",
       "      <td>0.001</td>\n",
       "    </tr>\n",
       "    <tr>\n",
       "      <th>2019-09-08 18:00:00</th>\n",
       "      <td>10000.0</td>\n",
       "      <td>10000.0</td>\n",
       "      <td>10000.0</td>\n",
       "      <td>10000.0</td>\n",
       "      <td>0.000</td>\n",
       "    </tr>\n",
       "    <tr>\n",
       "      <th>2019-09-08 18:01:00</th>\n",
       "      <td>10000.0</td>\n",
       "      <td>10000.0</td>\n",
       "      <td>10000.0</td>\n",
       "      <td>10000.0</td>\n",
       "      <td>0.000</td>\n",
       "    </tr>\n",
       "    <tr>\n",
       "      <th>...</th>\n",
       "      <td>...</td>\n",
       "      <td>...</td>\n",
       "      <td>...</td>\n",
       "      <td>...</td>\n",
       "      <td>...</td>\n",
       "    </tr>\n",
       "    <tr>\n",
       "      <th>2024-02-01 12:43:00</th>\n",
       "      <td>42181.8</td>\n",
       "      <td>42188.7</td>\n",
       "      <td>42177.2</td>\n",
       "      <td>42181.2</td>\n",
       "      <td>69.862</td>\n",
       "    </tr>\n",
       "    <tr>\n",
       "      <th>2024-02-01 12:44:00</th>\n",
       "      <td>42181.1</td>\n",
       "      <td>42181.1</td>\n",
       "      <td>42177.4</td>\n",
       "      <td>42178.3</td>\n",
       "      <td>35.439</td>\n",
       "    </tr>\n",
       "    <tr>\n",
       "      <th>2024-02-01 12:45:00</th>\n",
       "      <td>42178.3</td>\n",
       "      <td>42207.0</td>\n",
       "      <td>42168.4</td>\n",
       "      <td>42202.5</td>\n",
       "      <td>145.601</td>\n",
       "    </tr>\n",
       "    <tr>\n",
       "      <th>2024-02-01 12:46:00</th>\n",
       "      <td>42202.4</td>\n",
       "      <td>42229.9</td>\n",
       "      <td>42196.3</td>\n",
       "      <td>42209.1</td>\n",
       "      <td>180.169</td>\n",
       "    </tr>\n",
       "    <tr>\n",
       "      <th>2024-02-01 12:47:00</th>\n",
       "      <td>42209.2</td>\n",
       "      <td>42211.7</td>\n",
       "      <td>42177.0</td>\n",
       "      <td>42177.0</td>\n",
       "      <td>55.891</td>\n",
       "    </tr>\n",
       "  </tbody>\n",
       "</table>\n",
       "<p>2313770 rows × 5 columns</p>\n",
       "</div>"
      ],
      "text/plain": [
       "                        open     high      low    close   volume\n",
       "datetime                                                        \n",
       "2019-09-08 17:57:00  10000.0  10000.0  10000.0  10000.0    0.001\n",
       "2019-09-08 17:58:00  10000.0  10000.0  10000.0  10000.0    0.000\n",
       "2019-09-08 17:59:00  10000.0  10000.0  10000.0  10000.0    0.001\n",
       "2019-09-08 18:00:00  10000.0  10000.0  10000.0  10000.0    0.000\n",
       "2019-09-08 18:01:00  10000.0  10000.0  10000.0  10000.0    0.000\n",
       "...                      ...      ...      ...      ...      ...\n",
       "2024-02-01 12:43:00  42181.8  42188.7  42177.2  42181.2   69.862\n",
       "2024-02-01 12:44:00  42181.1  42181.1  42177.4  42178.3   35.439\n",
       "2024-02-01 12:45:00  42178.3  42207.0  42168.4  42202.5  145.601\n",
       "2024-02-01 12:46:00  42202.4  42229.9  42196.3  42209.1  180.169\n",
       "2024-02-01 12:47:00  42209.2  42211.7  42177.0  42177.0   55.891\n",
       "\n",
       "[2313770 rows x 5 columns]"
      ]
     },
     "execution_count": 4,
     "metadata": {},
     "output_type": "execute_result"
    }
   ],
   "source": [
    "data_df.rename(columns = {'o': 'open', 'h': 'high', 'l': 'low', 'c': 'close', 'v': 'volume', 'd': 'datetime'}, inplace=True)\n",
    "data_df['datetime'] = pd.to_datetime(data_df['datetime'], unit='ms')\n",
    "data_df = data_df.set_index('datetime')\n",
    "data_df"
   ]
  },
  {
   "cell_type": "markdown",
   "id": "7113b690",
   "metadata": {},
   "source": [
    "## **Validate target variable suitability for machine learning tasks**\n",
    "\n",
    "Ensure the target variable contains sufficient volatility with multiple ups and downs, rather than monotonic trends. This variability is essential for training a model that can learn to predict both rising and falling price movements, instead of learning from data that only goes up, down, or remains static.\n",
    "\n",
    "Looking at the plot below, we can see that this variable is well-suited for our machine learning task, as it demonstrates the necessary volatility with multiple ups and downs rather than monotonic trends."
   ]
  },
  {
   "cell_type": "code",
   "execution_count": 5,
   "id": "2e3de50b",
   "metadata": {},
   "outputs": [
    {
     "data": {
      "image/png": "[encoded data removed]",
      "text/plain": [
       "<Figure size 2000x1000 with 1 Axes>"
      ]
     },
     "metadata": {},
     "output_type": "display_data"
    }
   ],
   "source": [
    "plt.figure(figsize=(20, 10))\n",
    "\n",
    "x = data_df['close'].to_numpy()\n",
    "\n",
    "plt.plot(x, linewidth=2, color='blue')\n",
    "\n",
    "plt.xlabel('Time Steps', fontsize=12)\n",
    "plt.ylabel('Price', fontsize=12)\n",
    "plt.grid(True, alpha=0.3)\n",
    "plt.show()"
   ]
  },
  {
   "cell_type": "markdown",
   "id": "b818929d",
   "metadata": {},
   "source": [
    "## **Aggregate data to prepare features for modeling**"
   ]
  },
  {
   "cell_type": "code",
   "execution_count": 6,
   "id": "8e96aabf",
   "metadata": {},
   "outputs": [
    {
     "data": {
      "application/vnd.microsoft.datawrangler.viewer.v0+json": {
       "columns": [
        {
         "name": "datetime",
         "rawType": "datetime64[ns]",
         "type": "datetime"
        },
        {
         "name": "open",
         "rawType": "float64",
         "type": "float"
        },
        {
         "name": "high",
         "rawType": "float64",
         "type": "float"
        },
        {
         "name": "low",
         "rawType": "float64",
         "type": "float"
        },
        {
         "name": "close",
         "rawType": "float64",
         "type": "float"
        },
        {
         "name": "volume",
         "rawType": "float64",
         "type": "float"
        }
       ],
       "ref": "1d4dfbee-840e-4e44-8009-c2aee2e5a3e2",
       "rows": [
        [
         "2019-09-08 17:00:00",
         "10000.0",
         "10000.0",
         "10000.0",
         "10000.0",
         "0.002"
        ],
        [
         "2019-09-08 18:00:00",
         "10000.0",
         "10000.0",
         "10000.0",
         "10000.0",
         "0.0"
        ],
        [
         "2019-09-08 19:00:00",
         "10000.0",
         "10357.53",
         "10000.0",
         "10340.12",
         "471.659"
        ],
        [
         "2019-09-08 20:00:00",
         "10340.12",
         "10368.64",
         "10334.54",
         "10351.42",
         "583.271"
        ],
        [
         "2019-09-08 21:00:00",
         "10351.42",
         "10391.9",
         "10324.77",
         "10391.9",
         "689.759"
        ],
        [
         "2019-09-08 22:00:00",
         "10392.59",
         "10412.65",
         "10375.58",
         "10375.58",
         "675.394"
        ],
        [
         "2019-09-08 23:00:00",
         "10375.58",
         "10392.25",
         "10366.57",
         "10391.63",
         "676.206"
        ],
        [
         "2019-09-09 00:00:00",
         "10391.63",
         "10391.63",
         "10391.63",
         "10391.63",
         "0.0"
        ],
        [
         "2019-09-09 01:00:00",
         "10391.63",
         "10391.63",
         "10391.63",
         "10391.63",
         "0.0"
        ],
        [
         "2019-09-09 02:00:00",
         "10391.63",
         "10391.63",
         "10294.29",
         "10296.04",
         "96.462"
        ],
        [
         "2019-09-09 03:00:00",
         "10295.81",
         "10316.68",
         "10267.37",
         "10297.89",
         "682.987"
        ],
        [
         "2019-09-09 04:00:00",
         "10297.89",
         "10316.33",
         "10251.51",
         "10316.3",
         "680.278"
        ],
        [
         "2019-09-09 05:00:00",
         "10316.3",
         "10316.34",
         "10299.8",
         "10304.32",
         "671.524"
        ],
        [
         "2019-09-09 06:00:00",
         "10304.32",
         "10305.51",
         "10252.36",
         "10256.09",
         "680.52"
        ],
        [
         "2019-09-09 07:00:00",
         "10260.16",
         "10273.71",
         "10092.71",
         "10149.47",
         "632.467"
        ],
        [
         "2019-09-09 08:00:00",
         "10149.47",
         "10170.74",
         "10077.22",
         "10147.84",
         "1160.043"
        ],
        [
         "2019-09-09 09:00:00",
         "10147.84",
         "10267.74",
         "10143.68",
         "10248.89",
         "274.673"
        ],
        [
         "2019-09-09 10:00:00",
         "10249.57",
         "10256.18",
         "10196.76",
         "10253.25",
         "384.383"
        ],
        [
         "2019-09-09 11:00:00",
         "10247.69",
         "10475.54",
         "10222.75",
         "10414.6",
         "647.386"
        ],
        [
         "2019-09-09 12:00:00",
         "10411.7",
         "10411.7",
         "10349.89",
         "10356.75",
         "844.568"
        ],
        [
         "2019-09-09 13:00:00",
         "10356.61",
         "10389.12",
         "10317.61",
         "10322.37",
         "872.928"
        ],
        [
         "2019-09-09 14:00:00",
         "10327.06",
         "10363.82",
         "10302.69",
         "10337.55",
         "830.825"
        ],
        [
         "2019-09-09 15:00:00",
         "10333.86",
         "10363.66",
         "10308.84",
         "10314.26",
         "837.694"
        ],
        [
         "2019-09-09 16:00:00",
         "10314.26",
         "10333.55",
         "10183.31",
         "10255.44",
         "1126.982"
        ],
        [
         "2019-09-09 17:00:00",
         "10253.31",
         "10296.3",
         "10235.3",
         "10263.33",
         "913.252"
        ],
        [
         "2019-09-09 18:00:00",
         "10261.38",
         "10288.82",
         "10250.56",
         "10255.58",
         "918.219"
        ],
        [
         "2019-09-09 19:00:00",
         "10255.58",
         "10323.13",
         "10237.17",
         "10308.87",
         "956.876"
        ],
        [
         "2019-09-09 20:00:00",
         "10307.8",
         "10420.65",
         "10228.28",
         "10233.85",
         "726.047"
        ],
        [
         "2019-09-09 21:00:00",
         "10229.48",
         "10343.79",
         "10229.48",
         "10289.48",
         "516.808"
        ],
        [
         "2019-09-09 22:00:00",
         "10289.48",
         "10358.69",
         "10289.48",
         "10358.69",
         "296.634"
        ],
        [
         "2019-09-09 23:00:00",
         "10347.5",
         "10382.64",
         "10304.8",
         "10307.0",
         "72.817"
        ],
        [
         "2019-09-10 00:00:00",
         "10307.0",
         "10373.14",
         "10307.0",
         "10338.61",
         "197.31"
        ],
        [
         "2019-09-10 01:00:00",
         "10336.92",
         "10382.97",
         "10328.53",
         "10328.53",
         "322.633"
        ],
        [
         "2019-09-10 02:00:00",
         "10328.04",
         "10356.14",
         "10281.43",
         "10281.43",
         "546.28"
        ],
        [
         "2019-09-10 03:00:00",
         "10285.58",
         "10320.45",
         "10266.61",
         "10307.25",
         "481.232"
        ],
        [
         "2019-09-10 04:00:00",
         "10309.17",
         "10329.24",
         "10304.57",
         "10305.21",
         "513.665"
        ],
        [
         "2019-09-10 05:00:00",
         "10305.21",
         "10306.67",
         "10251.86",
         "10262.85",
         "312.001"
        ],
        [
         "2019-09-10 06:00:00",
         "10263.35",
         "10271.65",
         "10226.81",
         "10265.96",
         "449.925"
        ],
        [
         "2019-09-10 07:00:00",
         "10265.96",
         "10304.82",
         "10240.25",
         "10272.46",
         "430.492"
        ],
        [
         "2019-09-10 08:00:00",
         "10271.93",
         "10286.15",
         "10247.2",
         "10256.08",
         "374.454"
        ],
        [
         "2019-09-10 09:00:00",
         "10255.76",
         "10290.01",
         "10206.87",
         "10248.67",
         "356.75"
        ],
        [
         "2019-09-10 10:00:00",
         "10255.07",
         "10280.9",
         "10222.99",
         "10240.32",
         "358.313"
        ],
        [
         "2019-09-10 11:00:00",
         "10240.11",
         "10259.52",
         "10223.56",
         "10254.56",
         "319.484"
        ],
        [
         "2019-09-10 12:00:00",
         "10252.7",
         "10270.58",
         "10226.02",
         "10254.63",
         "320.088"
        ],
        [
         "2019-09-10 13:00:00",
         "10256.66",
         "10258.78",
         "10221.96",
         "10241.79",
         "308.964"
        ],
        [
         "2019-09-10 14:00:00",
         "10237.92",
         "10239.21",
         "10176.69",
         "10208.34",
         "579.259"
        ],
        [
         "2019-09-10 15:00:00",
         "10203.7",
         "10222.71",
         "10167.91",
         "10179.1",
         "321.499"
        ],
        [
         "2019-09-10 16:00:00",
         "10172.13",
         "10237.41",
         "10172.13",
         "10225.4",
         "306.303"
        ],
        [
         "2019-09-10 17:00:00",
         "10222.36",
         "10232.64",
         "10195.13",
         "10213.69",
         "333.288"
        ],
        [
         "2019-09-10 18:00:00",
         "10213.58",
         "10218.72",
         "10192.47",
         "10198.27",
         "305.427"
        ]
       ],
       "shape": {
        "columns": 5,
        "rows": 38564
       }
      },
      "text/html": [
       "<div>\n",
       "<style scoped>\n",
       "    .dataframe tbody tr th:only-of-type {\n",
       "        vertical-align: middle;\n",
       "    }\n",
       "\n",
       "    .dataframe tbody tr th {\n",
       "        vertical-align: top;\n",
       "    }\n",
       "\n",
       "    .dataframe thead th {\n",
       "        text-align: right;\n",
       "    }\n",
       "</style>\n",
       "<table border=\"1\" class=\"dataframe\">\n",
       "  <thead>\n",
       "    <tr style=\"text-align: right;\">\n",
       "      <th></th>\n",
       "      <th>open</th>\n",
       "      <th>high</th>\n",
       "      <th>low</th>\n",
       "      <th>close</th>\n",
       "      <th>volume</th>\n",
       "    </tr>\n",
       "    <tr>\n",
       "      <th>datetime</th>\n",
       "      <th></th>\n",
       "      <th></th>\n",
       "      <th></th>\n",
       "      <th></th>\n",
       "      <th></th>\n",
       "    </tr>\n",
       "  </thead>\n",
       "  <tbody>\n",
       "    <tr>\n",
       "      <th>2019-09-08 17:00:00</th>\n",
       "      <td>10000.00</td>\n",
       "      <td>10000.00</td>\n",
       "      <td>10000.00</td>\n",
       "      <td>10000.00</td>\n",
       "      <td>0.002</td>\n",
       "    </tr>\n",
       "    <tr>\n",
       "      <th>2019-09-08 18:00:00</th>\n",
       "      <td>10000.00</td>\n",
       "      <td>10000.00</td>\n",
       "      <td>10000.00</td>\n",
       "      <td>10000.00</td>\n",
       "      <td>0.000</td>\n",
       "    </tr>\n",
       "    <tr>\n",
       "      <th>2019-09-08 19:00:00</th>\n",
       "      <td>10000.00</td>\n",
       "      <td>10357.53</td>\n",
       "      <td>10000.00</td>\n",
       "      <td>10340.12</td>\n",
       "      <td>471.659</td>\n",
       "    </tr>\n",
       "    <tr>\n",
       "      <th>2019-09-08 20:00:00</th>\n",
       "      <td>10340.12</td>\n",
       "      <td>10368.64</td>\n",
       "      <td>10334.54</td>\n",
       "      <td>10351.42</td>\n",
       "      <td>583.271</td>\n",
       "    </tr>\n",
       "    <tr>\n",
       "      <th>2019-09-08 21:00:00</th>\n",
       "      <td>10351.42</td>\n",
       "      <td>10391.90</td>\n",
       "      <td>10324.77</td>\n",
       "      <td>10391.90</td>\n",
       "      <td>689.759</td>\n",
       "    </tr>\n",
       "    <tr>\n",
       "      <th>...</th>\n",
       "      <td>...</td>\n",
       "      <td>...</td>\n",
       "      <td>...</td>\n",
       "      <td>...</td>\n",
       "      <td>...</td>\n",
       "    </tr>\n",
       "    <tr>\n",
       "      <th>2024-02-01 08:00:00</th>\n",
       "      <td>42182.30</td>\n",
       "      <td>42246.70</td>\n",
       "      <td>42112.10</td>\n",
       "      <td>42236.00</td>\n",
       "      <td>4634.536</td>\n",
       "    </tr>\n",
       "    <tr>\n",
       "      <th>2024-02-01 09:00:00</th>\n",
       "      <td>42236.00</td>\n",
       "      <td>42259.70</td>\n",
       "      <td>42110.70</td>\n",
       "      <td>42141.00</td>\n",
       "      <td>4467.999</td>\n",
       "    </tr>\n",
       "    <tr>\n",
       "      <th>2024-02-01 10:00:00</th>\n",
       "      <td>42141.00</td>\n",
       "      <td>42323.60</td>\n",
       "      <td>42100.00</td>\n",
       "      <td>42214.10</td>\n",
       "      <td>6801.445</td>\n",
       "    </tr>\n",
       "    <tr>\n",
       "      <th>2024-02-01 11:00:00</th>\n",
       "      <td>42214.10</td>\n",
       "      <td>42292.80</td>\n",
       "      <td>42028.80</td>\n",
       "      <td>42075.90</td>\n",
       "      <td>7527.090</td>\n",
       "    </tr>\n",
       "    <tr>\n",
       "      <th>2024-02-01 12:00:00</th>\n",
       "      <td>42075.80</td>\n",
       "      <td>42229.90</td>\n",
       "      <td>41926.30</td>\n",
       "      <td>42177.00</td>\n",
       "      <td>11793.004</td>\n",
       "    </tr>\n",
       "  </tbody>\n",
       "</table>\n",
       "<p>38564 rows × 5 columns</p>\n",
       "</div>"
      ],
      "text/plain": [
       "                         open      high       low     close     volume\n",
       "datetime                                                              \n",
       "2019-09-08 17:00:00  10000.00  10000.00  10000.00  10000.00      0.002\n",
       "2019-09-08 18:00:00  10000.00  10000.00  10000.00  10000.00      0.000\n",
       "2019-09-08 19:00:00  10000.00  10357.53  10000.00  10340.12    471.659\n",
       "2019-09-08 20:00:00  10340.12  10368.64  10334.54  10351.42    583.271\n",
       "2019-09-08 21:00:00  10351.42  10391.90  10324.77  10391.90    689.759\n",
       "...                       ...       ...       ...       ...        ...\n",
       "2024-02-01 08:00:00  42182.30  42246.70  42112.10  42236.00   4634.536\n",
       "2024-02-01 09:00:00  42236.00  42259.70  42110.70  42141.00   4467.999\n",
       "2024-02-01 10:00:00  42141.00  42323.60  42100.00  42214.10   6801.445\n",
       "2024-02-01 11:00:00  42214.10  42292.80  42028.80  42075.90   7527.090\n",
       "2024-02-01 12:00:00  42075.80  42229.90  41926.30  42177.00  11793.004\n",
       "\n",
       "[38564 rows x 5 columns]"
      ]
     },
     "execution_count": 6,
     "metadata": {},
     "output_type": "execute_result"
    }
   ],
   "source": [
    "aggregated_data_df = data_df.resample('1h').agg({\n",
    "    'open': 'first',\n",
    "    'high': 'max',\n",
    "    'low': 'min',\n",
    "    'close': 'last',\n",
    "    'volume': 'sum',\n",
    "})\n",
    "\n",
    "aggregated_data_df"
   ]
  },
  {
   "cell_type": "markdown",
   "id": "9fa5b6e6",
   "metadata": {},
   "source": [
    "## **Save preprocessed dataset for further analysis**"
   ]
  },
  {
   "cell_type": "code",
   "execution_count": 7,
   "id": "f77da3d1",
   "metadata": {},
   "outputs": [],
   "source": [
    "aggregated_data_df.to_parquet(\"../data/raw/raw_1h_data.parquet\")"
   ]
  }
 ],
 "metadata": {
  "kernelspec": {
   "display_name": "Python 3",
   "language": "python",
   "name": "python3"
  },
  "language_info": {
   "codemirror_mode": {
    "name": "ipython",
    "version": 3
   },
   "file_extension": ".py",
   "mimetype": "text/x-python",
   "name": "python",
   "nbconvert_exporter": "python",
   "pygments_lexer": "ipython3",
   "version": "3.12.11"
  }
 },
 "nbformat": 4,
 "nbformat_minor": 5
}
